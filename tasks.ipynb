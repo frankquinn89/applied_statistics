{
 "cells": [
  {
   "cell_type": "markdown",
   "metadata": {},
   "source": [
    "## Task 1: Permutations and Combinations\n",
    "Suppose we alter the Lady Tasting Tea experiment to involve twelve cups of tea. Six have the milk in first and the other six having tea in first. A person claims they have the special power of being able to tell whether the tea or the milk went into a cup first upon tasting it. You agree to accept their claim if they can tell which of the six cups in your experiment had the milk in first.\n",
    "\n",
    "Calculate, using Python, the probability that they select the correct six cups. Here you should assume that they have no special powers in figuring it out, that they are just guessing. Remember to show and justify your workings in code and MarkDown cells.\n",
    "\n",
    "Suppose, now, you are willing to accept one error. Once they select the six cups they think had the milk in first, you will give them the benefit of the doubt should they have selected at least five of the correct cups. Calculate the probability, assuming they have no special powers, that the person makes at most one error.\n",
    "\n",
    "Would you accept two errors? Explain."
   ]
  },
  {
   "cell_type": "markdown",
   "metadata": {},
   "source": [
    "------------------------------------------------- \n"
   ]
  },
  {
   "cell_type": "markdown",
   "metadata": {},
   "source": [
    "\n",
    "We need to first import requires packages and we will define a variable for our total cups and a variable for cups with the milk first.\n",
    "\n",
    "https://docs.python.org/3/library/math.html"
   ]
  },
  {
   "cell_type": "code",
   "execution_count": 10,
   "metadata": {},
   "outputs": [],
   "source": [
    "import math\n",
    "\n",
    "# Total amount of cups\n",
    "total_cups = 12\n",
    "# Cups with milk first\n",
    "cups_with_milk_first = 6\n"
   ]
  },
  {
   "cell_type": "markdown",
   "metadata": {},
   "source": [
    "Now, we van use the math.comb() function to find the total amount of ways we can get the 6 cups with milk added first from the total amount of cups.\n",
    "\n",
    "https://docs.python.org/3/library/math.html#math.comb"
   ]
  },
  {
   "cell_type": "code",
   "execution_count": 11,
   "metadata": {},
   "outputs": [],
   "source": [
    "# Total ways to get the 6 cups from 12 \n",
    "total_combinations = math.comb(total_cups, cups_with_milk_first)"
   ]
  },
  {
   "attachments": {
    "image.png": {
     "image/png": "[encoded data removed]"
    }
   },
   "cell_type": "markdown",
   "metadata": {},
   "source": [
    "Now we can calculate the probability that the 6 cups chosen are the correct one with milk added first.\n",
    "\n",
    "There can only be one correct senario here that the person picks the 6 correct cups (the order of the 6 milk cups does not matter) so can will assigne that value as 1.\n",
    "\n",
    "Probability can be calculated with the following:\n",
    "\n",
    "![image.png](attachment:image.png)\n"
   ]
  },
  {
   "cell_type": "code",
   "execution_count": 12,
   "metadata": {},
   "outputs": [],
   "source": [
    "# There is only one specific combination of the correct cups with all milk first\n",
    "all_milk_first_cups_solution = 1\n",
    "\n",
    "# calculate probability of selecting the correct 6 cups\n",
    "all_milk_cups_first_probability = all_milk_first_cups_solution / total_combinations\n"
   ]
  },
  {
   "cell_type": "markdown",
   "metadata": {},
   "source": [
    "Let's see what the probability is!"
   ]
  },
  {
   "cell_type": "code",
   "execution_count": 13,
   "metadata": {},
   "outputs": [
    {
     "name": "stdout",
     "output_type": "stream",
     "text": [
      "The probability of 6 correct cups being chosen is 0.0010822510822510823\n"
     ]
    }
   ],
   "source": [
    "# Print Probability of all milk cups\n",
    "print(\"The probability of 6 correct cups being chosen is\",all_milk_cups_first_probability)"
   ]
  },
  {
   "cell_type": "markdown",
   "metadata": {},
   "source": [
    "Now, let's look at probability of the scenario where we would accept at least 1 error when selecting the correct cups."
   ]
  },
  {
   "cell_type": "markdown",
   "metadata": {},
   "source": [
    "Earlier we saw the total combinations to be math.comb(12, 6).\n",
    "\n",
    "Now the total combinations will become existing math.comb(12, 6)  +  whatever the possible combination of the other senario is.\n",
    "\n",
    "This other senario would the be math.comb(6, 5) * math.comb(6, 1)  e.g choosing 5 correct cups and 1 incorrect cup. "
   ]
  },
  {
   "cell_type": "code",
   "execution_count": 14,
   "metadata": {},
   "outputs": [],
   "source": [
    "# combinations for 1 error\n",
    "one_error_milk_first_cups_solution = math.comb(6, 5) * math.comb(6, 1)\n",
    "\n",
    "# total combinations of outcomes we would want\n",
    "combined_outcomes = all_milk_first_cups_solution + one_error_milk_first_cups_solution\n"
   ]
  },
  {
   "cell_type": "markdown",
   "metadata": {},
   "source": [
    "Now that we have all our outcomes, let's calculate the probability of select at least 5 of the milk first cups!"
   ]
  },
  {
   "cell_type": "code",
   "execution_count": 15,
   "metadata": {},
   "outputs": [
    {
     "name": "stdout",
     "output_type": "stream",
     "text": [
      "The probability of at least 5 correct cups being chosen is 0.04004329004329004\n"
     ]
    }
   ],
   "source": [
    "# Probability of at most one error\n",
    "one_error_max_probability = combined_outcomes / total_combinations\n",
    "\n",
    "print(\"The probability of at least 5 correct cups being chosen is\", one_error_max_probability)"
   ]
  }
 ],
 "metadata": {
  "kernelspec": {
   "display_name": "base",
   "language": "python",
   "name": "python3"
  },
  "language_info": {
   "codemirror_mode": {
    "name": "ipython",
    "version": 3
   },
   "file_extension": ".py",
   "mimetype": "text/x-python",
   "name": "python",
   "nbconvert_exporter": "python",
   "pygments_lexer": "ipython3",
   "version": "3.9.13"
  }
 },
 "nbformat": 4,
 "nbformat_minor": 2
}
