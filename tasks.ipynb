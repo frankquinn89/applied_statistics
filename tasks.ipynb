{
 "cells": [
  {
   "cell_type": "markdown",
   "metadata": {},
   "source": [
    "## Task 1: Permutations and Combinations\n",
    "Suppose we alter the Lady Tasting Tea experiment to involve twelve cups of tea. Six have the milk in first and the other six having tea in first. A person claims they have the special power of being able to tell whether the tea or the milk went into a cup first upon tasting it. You agree to accept their claim if they can tell which of the six cups in your experiment had the milk in first.\n",
    "\n",
    "Calculate, using Python, the probability that they select the correct six cups. Here you should assume that they have no special powers in figuring it out, that they are just guessing. Remember to show and justify your workings in code and MarkDown cells.\n",
    "\n",
    "Suppose, now, you are willing to accept one error. Once they select the six cups they think had the milk in first, you will give them the benefit of the doubt should they have selected at least five of the correct cups. Calculate the probability, assuming they have no special powers, that the person makes at most one error.\n",
    "\n",
    "Would you accept two errors? Explain."
   ]
  },
  {
   "cell_type": "markdown",
   "metadata": {},
   "source": [
    "------------------------------------------------- \n"
   ]
  },
  {
   "cell_type": "markdown",
   "metadata": {},
   "source": [
    "\n",
    "We need to first import requires packages and we will define a variable for our total cups and a variable for cups with the milk first.\n",
    "\n",
    "https://docs.python.org/3/library/math.html"
   ]
  },
  {
   "cell_type": "code",
   "execution_count": 2,
   "metadata": {},
   "outputs": [],
   "source": [
    "import math\n",
    "\n",
    "# Total amount of cups\n",
    "total_cups = 8\n",
    "# Cups with milk first\n",
    "cups_with_milk_first = 4\n"
   ]
  },
  {
   "cell_type": "markdown",
   "metadata": {},
   "source": [
    "Now, we van use the math.comb() function to find the total amount of ways we can get the 6 cups with milk added first from the total amount of cups.\n",
    "\n",
    "https://docs.python.org/3/library/math.html#math.comb"
   ]
  },
  {
   "cell_type": "code",
   "execution_count": 3,
   "metadata": {},
   "outputs": [],
   "source": [
    "# Total ways to get the 6 cups from 12 \n",
    "total_combinations = math.comb(total_cups, cups_with_milk_first)"
   ]
  },
  {
   "attachments": {
    "image.png": {
     "image/png": "[encoded data removed]"
    }
   },
   "cell_type": "markdown",
   "metadata": {},
   "source": [
    "Now we can calculate the probability that the 6 cups chosen are the correct one with milk added first.\n",
    "\n",
    "There can only be one correct senario here that the person picks the 6 correct cups (the order of the 6 milk cups does not matter) so can will assigne that value as 1.\n",
    "\n",
    "Probability can be calculated with the following:\n",
    "\n",
    "![image.png](attachment:image.png)\n"
   ]
  },
  {
   "cell_type": "code",
   "execution_count": 4,
   "metadata": {},
   "outputs": [],
   "source": [
    "# There is only one specific combination of the correct cups with all milk first\n",
    "all_milk_first_cups_solution = 1\n",
    "\n",
    "# calculate probability of selecting the correct 6 cups\n",
    "all_milk_cups_first_probability = all_milk_first_cups_solution / total_combinations\n"
   ]
  },
  {
   "cell_type": "markdown",
   "metadata": {},
   "source": [
    "Let's see what the probability is!"
   ]
  },
  {
   "cell_type": "code",
   "execution_count": 5,
   "metadata": {},
   "outputs": [
    {
     "name": "stdout",
     "output_type": "stream",
     "text": [
      "The probability of 6 correct cups being chosen is 0.014285714285714285\n"
     ]
    }
   ],
   "source": [
    "# Print Probability of all milk cups\n",
    "print(\"The probability of 6 correct cups being chosen is\",all_milk_cups_first_probability)"
   ]
  },
  {
   "cell_type": "markdown",
   "metadata": {},
   "source": [
    "Now, let's look at probability of the scenario where we would accept at least 1 error when selecting the correct cups."
   ]
  },
  {
   "cell_type": "markdown",
   "metadata": {},
   "source": [
    "Earlier we saw the total combinations to be math.comb(12, 6).\n",
    "\n",
    "Now the total combinations will become existing math.comb(12, 6)  +  whatever the possible combination of the other senario is.\n",
    "\n",
    "This other senario would the be math.comb(6, 5) * math.comb(6, 1)  e.g choosing 5 correct cups and 1 incorrect cup. "
   ]
  },
  {
   "cell_type": "code",
   "execution_count": 6,
   "metadata": {},
   "outputs": [],
   "source": [
    "# combinations for 1 error\n",
    "one_error_milk_first_cups_solution = math.comb(6, 5) * math.comb(6, 1)\n",
    "\n",
    "# total combinations of outcomes we would want\n",
    "combined_outcomes = all_milk_first_cups_solution + one_error_milk_first_cups_solution\n"
   ]
  },
  {
   "cell_type": "markdown",
   "metadata": {},
   "source": [
    "Now that we have all our outcomes, let's calculate the probability of select at least 5 of the milk first cups!"
   ]
  },
  {
   "cell_type": "code",
   "execution_count": 7,
   "metadata": {},
   "outputs": [
    {
     "name": "stdout",
     "output_type": "stream",
     "text": [
      "The probability of at least 5 correct cups being chosen is 0.5285714285714286\n"
     ]
    }
   ],
   "source": [
    "# Probability of at most one error\n",
    "one_error_max_probability = combined_outcomes / total_combinations\n",
    "\n",
    "print(\"The probability of at least 5 correct cups being chosen is\", one_error_max_probability)"
   ]
  },
  {
   "cell_type": "markdown",
   "metadata": {},
   "source": [
    "The next question we would ask is: would we accept 2 errors in this process?"
   ]
  },
  {
   "cell_type": "markdown",
   "metadata": {},
   "source": [
    "I would say no. The reason is that having the option to have 2 errors makes the process significantly easier in terms of probability. Just look at the difference in probability between guessing all 6 correct (0.001) vs 5 correct (0.04). The probability greatly increases when the option of 1 error is introduced. \n",
    "\n",
    "This would further be increased when we up to error count to 2. At that point it may get hard to differenciate between the person knowing the milk was added first vs them purely guessing the answer."
   ]
  },
  {
   "cell_type": "markdown",
   "metadata": {},
   "source": [
    "------------------------------\n",
    "\n",
    "--------------------------\n",
    "\n",
    "----------------------------"
   ]
  },
  {
   "cell_type": "markdown",
   "metadata": {},
   "source": [
    "## Task 2: numpy's Normal Distribution\n",
    "In this task you will assess whether numpy.random.normal() properly generates normal values. To begin, generate a sample of one hundred thousand values using the function with mean 10.0 and standard deviation 3.0.\n",
    "\n",
    "Use the scipy.stats.shapiro() function to test whether your sample came from a normal distribution. Explain the results and output.\n",
    "\n",
    "Plot a histogram of your values and plot the corresponding normal distribution probability density function on top of it."
   ]
  },
  {
   "cell_type": "markdown",
   "metadata": {},
   "source": [
    "------------------------------"
   ]
  },
  {
   "cell_type": "markdown",
   "metadata": {},
   "source": [
    "First, let's generate 100,000 values with mean = 10.0 and standard deviation 3.0.\n",
    "\n",
    "See python docs for more info: https://numpy.org/doc/stable/reference/random/generated/numpy.random.normal.html "
   ]
  },
  {
   "cell_type": "code",
   "execution_count": 8,
   "metadata": {},
   "outputs": [],
   "source": [
    "import numpy as np\n",
    "\n",
    "mean = 10.0\n",
    "std_dev =  3.0\n",
    "size = 100000\n",
    "\n",
    "# create sample data\n",
    "data = np.random.normal(mean, std_dev, size)"
   ]
  },
  {
   "cell_type": "markdown",
   "metadata": {},
   "source": [
    "The values have been generated. Let's take a quick look at the stats from the data:"
   ]
  },
  {
   "cell_type": "code",
   "execution_count": 9,
   "metadata": {},
   "outputs": [
    {
     "name": "stdout",
     "output_type": "stream",
     "text": [
      "The mean is :  10.002019933446025\n",
      "The Standard Deviation is :  3.0007224028891337\n"
     ]
    }
   ],
   "source": [
    "print('The mean is : ', np.mean(data))\n",
    "\n",
    "print(\"The Standard Deviation is : \", np.std(data))"
   ]
  },
  {
   "cell_type": "markdown",
   "metadata": {},
   "source": [
    "We can see the values above are very close to the initially defined values for the mean and standard deviation."
   ]
  },
  {
   "cell_type": "markdown",
   "metadata": {},
   "source": [
    "Next, let's test whether our sample came from a normal distribution. We can do this by using a Shapiro-Wilk test.\n",
    "\n",
    "https://docs.scipy.org/doc/scipy/reference/generated/scipy.stats.shapiro.html#shapiro "
   ]
  },
  {
   "cell_type": "code",
   "execution_count": 10,
   "metadata": {},
   "outputs": [
    {
     "name": "stderr",
     "output_type": "stream",
     "text": [
      "c:\\Users\\frank\\anaconda3\\lib\\site-packages\\scipy\\stats\\_morestats.py:1800: UserWarning: p-value may not be accurate for N > 5000.\n",
      "  warnings.warn(\"p-value may not be accurate for N > 5000.\")\n"
     ]
    },
    {
     "data": {
      "text/plain": [
       "ShapiroResult(statistic=0.9999536275863647, pvalue=0.1641867309808731)"
      ]
     },
     "execution_count": 10,
     "metadata": {},
     "output_type": "execute_result"
    }
   ],
   "source": [
    "from scipy import stats\n",
    "\n",
    "# Perform the Shapiro Wilk test.\n",
    "stats.shapiro(data)\n"
   ]
  },
  {
   "cell_type": "markdown",
   "metadata": {},
   "source": [
    "Now that we have the results from the test, let's discuss how they would be interpeted.\n",
    "\n",
    "We have 2 values: Statistic and P-Value.\n",
    "\n",
    "\n",
    "\n",
    "\n"
   ]
  },
  {
   "cell_type": "markdown",
   "metadata": {},
   "source": [
    "##### *Statistic*\n",
    "This measures how closely the sample distribution links to a normal distribution. The range is 0 - 1. The close the statistic is to 1, the closer it is to a normal distribution. The closer to 0 suggests a higher deviation than normal.\n",
    "\n",
    "##### *P-Value*\n",
    "The p-value represents the probability of observing the test statistic under the null hypothesis, which states that the sample is drawn from a normal distribution.  The range is 0 - 1. Commonly, the p-value significance level is taken to be 0.05. If the p-value from the Shapiro-Wilk test is below 0.05, we would reject the null hypothesis and say the sample is not from a normal distribution.\n",
    "\n",
    "If the p-value is greater or equal to 0.05, you would fail to reject the null hypothesis as this suggests there isn't enough evidence to say the sample isn't from a normal distribution.\n",
    "\n",
    "P-Value and Statistic are used together to evaluate the sample. A high statistic and a high p-value suggest normality, wheras a low statistic and a low p-value suggest a deviation from normality.\n",
    "\n"
   ]
  },
  {
   "cell_type": "markdown",
   "metadata": {},
   "source": [
    "Following this, let us now plot the data we have generated with the Probability Density Function.\n",
    "\n",
    "Here are some resources:\n"
   ]
  },
  {
   "cell_type": "markdown",
   "metadata": {},
   "source": [
    "https://matplotlib.org/stable/api/_as_gen/matplotlib.pyplot.hist.html#matplotlib-pyplot-hist\n",
    "\n",
    "https://numpy.org/doc/stable/reference/generated/numpy.histogram.html#numpy-histogram"
   ]
  },
  {
   "cell_type": "code",
   "execution_count": 11,
   "metadata": {},
   "outputs": [
    {
     "data": {
      "image/png": "[encoded data removed]",
      "text/plain": [
       "<Figure size 640x480 with 1 Axes>"
      ]
     },
     "metadata": {},
     "output_type": "display_data"
    }
   ],
   "source": [
    "from matplotlib import pyplot as plt\n",
    "\n",
    "# initialize plot\n",
    "fig, ax = plt.subplots()\n",
    "\n",
    "# plot histogram between 0 and 20 with 50 bin size.  \n",
    "ax.hist(data, edgecolor='black', density=True, bins=np.linspace(0, 20, 50), color ='yellow')\n",
    "\n",
    "# Generate x values for the normal distribution Probability Density Function between 0 and 20 with 1001 values\n",
    "x = np.linspace(0, 20, 1001) \n",
    "pdf = stats.norm.pdf(x, mean, std_dev)\n",
    "\n",
    "# plot the distribution\n",
    "ax.plot(x, pdf, linewidth='3', color ='blue')\n",
    "\n",
    "ax.set_xlabel('Values')\n",
    "ax.set_ylabel('Density')\n",
    "ax.grid()\n",
    "\n",
    "plt.show()"
   ]
  },
  {
   "cell_type": "markdown",
   "metadata": {},
   "source": [
    "----------------------\n",
    "----------------------\n",
    "----------------------"
   ]
  },
  {
   "attachments": {
    "image.png": {
     "image/png": "[encoded data removed]"
    }
   },
   "cell_type": "markdown",
   "metadata": {},
   "source": [
    "## Task 3: t-Test Calculation\n",
    "\n",
    "Consider the following dataset containing resting heart rates for patients before and after embarking on a two-week exercise program.\n",
    "\n",
    "![image.png](attachment:image.png)\n",
    "\n",
    "Calculate the t-statistic based on this data set, using Python. Compare it to the value given by scipy.stats. Explain your work and list any sources used. \n",
    "\n",
    "---------------------------\n"
   ]
  },
  {
   "cell_type": "markdown",
   "metadata": {},
   "source": [
    "First, let's set up the data:"
   ]
  },
  {
   "cell_type": "code",
   "execution_count": 12,
   "metadata": {},
   "outputs": [],
   "source": [
    "# Numerical arrays.\n",
    "import numpy as np\n",
    "\n",
    "# Statistical functions.\n",
    "import scipy.stats as stats\n",
    "\n",
    "# create arrays of before and after heart rates\n",
    "before = np.array([63, 68, 70, 64, 74, 67, 70, 57, 66, 65])\n",
    "after = np.array([64, 64, 68, 64, 73, 70, 72, 54, 61, 63])\n"
   ]
  },
  {
   "attachments": {
    "image.png": {
     "image/png": "[encoded data removed]"
    }
   },
   "cell_type": "markdown",
   "metadata": {},
   "source": [
    "Next, we need to know how to calculate the t-statistic:\n",
    "\n",
    "![image.png](attachment:image.png)\n",
    "\n",
    "For this equation, we will need to find the differences, mean and std deviation.\n"
   ]
  },
  {
   "cell_type": "code",
   "execution_count": null,
   "metadata": {},
   "outputs": [
    {
     "name": "stdout",
     "output_type": "stream",
     "text": [
      "t-statistic manual: -1.3372274824806283\n"
     ]
    }
   ],
   "source": [
    "# Calculate the differences of the data\n",
    "differences = after - before\n",
    "\n",
    "# Calculate the mean and std deviation\n",
    "mean = np.mean(differences)\n",
    "std = np.std(differences, ddof=1)\n",
    "n = len(differences)\n",
    "\n",
    "# calculate the t-statistic\n",
    "t_statistic_manual = mean / (std / np.sqrt(n))\n",
    "\n",
    "print(f\"t-statistic manual: {t_statistic_manual}\")"
   ]
  },
  {
   "cell_type": "markdown",
   "metadata": {},
   "source": [
    "Now, we should compare this against this against the value given by scipy.stats"
   ]
  },
  {
   "cell_type": "code",
   "execution_count": 17,
   "metadata": {},
   "outputs": [
    {
     "name": "stdout",
     "output_type": "stream",
     "text": [
      "t-statistic scipy: 1.337227482480628\n"
     ]
    }
   ],
   "source": [
    "# Use scipy's ttest_rel \n",
    "t_statistics_scipy, p_value = stats.ttest_rel(before, after)\n",
    "\n",
    "print(f\"t-statistic scipy: {t_statistics_scipy}\")"
   ]
  },
  {
   "cell_type": "markdown",
   "metadata": {},
   "source": [
    "Let's compare these results. The values are the same but notice how the manual calculation has a minus sign. This is beacuse of the order of the differences.\n",
    "\n",
    "The manual effort calculated the difference as \"After - Before\".  The scipy version calculated the difference using \"Before, After\". We can take the absolute values of these results and we can see they match.\n"
   ]
  },
  {
   "cell_type": "markdown",
   "metadata": {},
   "source": [
    "-----------------\n",
    "----------------\n",
    "----------------"
   ]
  }
 ],
 "metadata": {
  "kernelspec": {
   "display_name": "base",
   "language": "python",
   "name": "python3"
  },
  "language_info": {
   "codemirror_mode": {
    "name": "ipython",
    "version": 3
   },
   "file_extension": ".py",
   "mimetype": "text/x-python",
   "name": "python",
   "nbconvert_exporter": "python",
   "pygments_lexer": "ipython3",
   "version": "3.9.13"
  }
 },
 "nbformat": 4,
 "nbformat_minor": 2
}
