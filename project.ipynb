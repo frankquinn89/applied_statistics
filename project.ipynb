{
 "cells": [
  {
   "cell_type": "markdown",
   "metadata": {},
   "source": [
    "# PlantGrowth Project"
   ]
  },
  {
   "cell_type": "markdown",
   "metadata": {},
   "source": [
    "The PlantGrowth dataset consists of 30 observations of plant weights under three different treatment groups:\n",
    "\n",
    "Variables:\n",
    "\n",
    "* rownames: The row number\n",
    "* weight: The weight of the plant (in grams).\n",
    "* group: Treatment group\n",
    "\n",
    "There are 10 plants in each group: 10 in ctrl (control), 10 in trt1 (treatment 1), and 10 in trt2 (treatment 2)."
   ]
  },
  {
   "cell_type": "markdown",
   "metadata": {},
   "source": [
    "Now, let's import the dataset and take a look at the data!"
   ]
  },
  {
   "cell_type": "code",
   "execution_count": null,
   "metadata": {},
   "outputs": [
    {
     "data": {
      "text/html": [
       "<div>\n",
       "<style scoped>\n",
       "    .dataframe tbody tr th:only-of-type {\n",
       "        vertical-align: middle;\n",
       "    }\n",
       "\n",
       "    .dataframe tbody tr th {\n",
       "        vertical-align: top;\n",
       "    }\n",
       "\n",
       "    .dataframe thead th {\n",
       "        text-align: right;\n",
       "    }\n",
       "</style>\n",
       "<table border=\"1\" class=\"dataframe\">\n",
       "  <thead>\n",
       "    <tr style=\"text-align: right;\">\n",
       "      <th></th>\n",
       "      <th>rownames</th>\n",
       "      <th>weight</th>\n",
       "      <th>group</th>\n",
       "    </tr>\n",
       "  </thead>\n",
       "  <tbody>\n",
       "    <tr>\n",
       "      <th>0</th>\n",
       "      <td>1</td>\n",
       "      <td>4.17</td>\n",
       "      <td>ctrl</td>\n",
       "    </tr>\n",
       "    <tr>\n",
       "      <th>1</th>\n",
       "      <td>2</td>\n",
       "      <td>5.58</td>\n",
       "      <td>ctrl</td>\n",
       "    </tr>\n",
       "    <tr>\n",
       "      <th>2</th>\n",
       "      <td>3</td>\n",
       "      <td>5.18</td>\n",
       "      <td>ctrl</td>\n",
       "    </tr>\n",
       "    <tr>\n",
       "      <th>3</th>\n",
       "      <td>4</td>\n",
       "      <td>6.11</td>\n",
       "      <td>ctrl</td>\n",
       "    </tr>\n",
       "    <tr>\n",
       "      <th>4</th>\n",
       "      <td>5</td>\n",
       "      <td>4.50</td>\n",
       "      <td>ctrl</td>\n",
       "    </tr>\n",
       "  </tbody>\n",
       "</table>\n",
       "</div>"
      ],
      "text/plain": [
       "   rownames  weight group\n",
       "0         1    4.17  ctrl\n",
       "1         2    5.58  ctrl\n",
       "2         3    5.18  ctrl\n",
       "3         4    6.11  ctrl\n",
       "4         5    4.50  ctrl"
      ]
     },
     "execution_count": 10,
     "metadata": {},
     "output_type": "execute_result"
    }
   ],
   "source": [
    "import pandas as pd\n",
    "\n",
    "plant_data = pd.read_csv('data_files/plantgrowth.csv')\n",
    "\n",
    "plant_data.head()\n"
   ]
  },
  {
   "cell_type": "markdown",
   "metadata": {},
   "source": [
    "Now let's also look at some stats of the data."
   ]
  },
  {
   "cell_type": "code",
   "execution_count": 11,
   "metadata": {},
   "outputs": [
    {
     "data": {
      "text/html": [
       "<div>\n",
       "<style scoped>\n",
       "    .dataframe tbody tr th:only-of-type {\n",
       "        vertical-align: middle;\n",
       "    }\n",
       "\n",
       "    .dataframe tbody tr th {\n",
       "        vertical-align: top;\n",
       "    }\n",
       "\n",
       "    .dataframe thead th {\n",
       "        text-align: right;\n",
       "    }\n",
       "</style>\n",
       "<table border=\"1\" class=\"dataframe\">\n",
       "  <thead>\n",
       "    <tr style=\"text-align: right;\">\n",
       "      <th></th>\n",
       "      <th>rownames</th>\n",
       "      <th>weight</th>\n",
       "    </tr>\n",
       "  </thead>\n",
       "  <tbody>\n",
       "    <tr>\n",
       "      <th>count</th>\n",
       "      <td>30.000000</td>\n",
       "      <td>30.000000</td>\n",
       "    </tr>\n",
       "    <tr>\n",
       "      <th>mean</th>\n",
       "      <td>15.500000</td>\n",
       "      <td>5.073000</td>\n",
       "    </tr>\n",
       "    <tr>\n",
       "      <th>std</th>\n",
       "      <td>8.803408</td>\n",
       "      <td>0.701192</td>\n",
       "    </tr>\n",
       "    <tr>\n",
       "      <th>min</th>\n",
       "      <td>1.000000</td>\n",
       "      <td>3.590000</td>\n",
       "    </tr>\n",
       "    <tr>\n",
       "      <th>25%</th>\n",
       "      <td>8.250000</td>\n",
       "      <td>4.550000</td>\n",
       "    </tr>\n",
       "    <tr>\n",
       "      <th>50%</th>\n",
       "      <td>15.500000</td>\n",
       "      <td>5.155000</td>\n",
       "    </tr>\n",
       "    <tr>\n",
       "      <th>75%</th>\n",
       "      <td>22.750000</td>\n",
       "      <td>5.530000</td>\n",
       "    </tr>\n",
       "    <tr>\n",
       "      <th>max</th>\n",
       "      <td>30.000000</td>\n",
       "      <td>6.310000</td>\n",
       "    </tr>\n",
       "  </tbody>\n",
       "</table>\n",
       "</div>"
      ],
      "text/plain": [
       "        rownames     weight\n",
       "count  30.000000  30.000000\n",
       "mean   15.500000   5.073000\n",
       "std     8.803408   0.701192\n",
       "min     1.000000   3.590000\n",
       "25%     8.250000   4.550000\n",
       "50%    15.500000   5.155000\n",
       "75%    22.750000   5.530000\n",
       "max    30.000000   6.310000"
      ]
     },
     "execution_count": 11,
     "metadata": {},
     "output_type": "execute_result"
    }
   ],
   "source": [
    "plant_data.describe()"
   ]
  },
  {
   "cell_type": "markdown",
   "metadata": {},
   "source": [
    "## T-Test"
   ]
  },
  {
   "cell_type": "markdown",
   "metadata": {},
   "source": [
    "A t-test is a statistical test used to compare the means of two groups and determine if their difference is statistically significant.  The t-test calculates a t-statistic, which is the difference between the group means divided by the variability in the data. There are some assumptions when using t-tests:\n",
    "\n",
    "* Normality: The data (or differences in paired data) should be approximately normally distributed.\n",
    "* Independence: Observations in each group must be independent (for independent t-tests).\n",
    "* Equal Variance: For independent t-tests, the groups should have roughly equal variances.\n",
    "\n",
    "\n"
   ]
  },
  {
   "cell_type": "markdown",
   "metadata": {},
   "source": [
    "Let's perform a t-test on the PlantGrowth data to determine whether there is a significant difference between the two treatment groups trt1 and trt2."
   ]
  },
  {
   "cell_type": "code",
   "execution_count": 12,
   "metadata": {},
   "outputs": [
    {
     "name": "stdout",
     "output_type": "stream",
     "text": [
      "t-statistic: -3.0100985421243616\n",
      "p-value: 0.0075184261182198574\n"
     ]
    }
   ],
   "source": [
    "import scipy.stats as stats\n",
    "\n",
    "df = pd.DataFrame(plant_data)\n",
    "\n",
    "# find the weights for trt1 and trt2\n",
    "trt1_weights = df[df['group'] == 'trt1']['weight']\n",
    "trt2_weights = df[df['group'] == 'trt2']['weight']\n",
    "\n",
    "# t-test between trt1 and trt2\n",
    "t_statistic, p_value = stats.ttest_ind(trt1_weights, trt2_weights)\n",
    "\n",
    "print(f\"t-statistic: {t_statistic}\")\n",
    "print(f\"p-value: {p_value}\")"
   ]
  },
  {
   "cell_type": "markdown",
   "metadata": {},
   "source": [
    "The t-statistic: -3.01\n",
    "\n",
    "This indicates that the mean plant weight in trt1 is 3.01 standard errors lower than in trt2.\n",
    "\n",
    "p-value: 0.0075\n",
    "\n",
    "Since the p-value is less than 0.05, we reject the null hypothesis and conclude there is a significant difference between the two groups.\n",
    "\n",
    "Conclusion:\n",
    "\n",
    "There is a statistically significant difference between trt1 and trt2, with trt1 having a lower mean plant weight than trt2."
   ]
  },
  {
   "cell_type": "markdown",
   "metadata": {},
   "source": [
    "## ANOVA"
   ]
  },
  {
   "cell_type": "markdown",
   "metadata": {},
   "source": [
    "Let's perform ANOVA to determine whether there is a significant difference between the three treatment groups"
   ]
  },
  {
   "cell_type": "code",
   "execution_count": 18,
   "metadata": {},
   "outputs": [
    {
     "name": "stdout",
     "output_type": "stream",
     "text": [
      "f-statistic: 4.846087862380136\n",
      "p-value: 0.0159099583256229\n"
     ]
    }
   ],
   "source": [
    "from scipy import stats\n",
    "\n",
    "# group the weights of each plant type\n",
    "ctrl = plant_data[plant_data['group'] == 'ctrl']['weight']\n",
    "trt1 = plant_data[plant_data['group'] == 'trt1']['weight']\n",
    "trt2 = plant_data[plant_data['group'] == 'trt2']['weight']\n",
    "\n",
    "# Perform one-way ANOVA\n",
    "f_statistic, p_value = stats.f_oneway(ctrl, trt1, trt2)\n",
    "\n",
    "# Output results\n",
    "print(f\"f-statistic: {f_statistic}\")\n",
    "print(f\"p-value: {p_value}\")\n"
   ]
  },
  {
   "cell_type": "markdown",
   "metadata": {},
   "source": [
    "Let's analyse the results.\n",
    "\n",
    "F-statistic: 4.8461\n",
    "\n",
    "The f-statistic is a ratio of the variance between the group means to the variance within the groups. \n",
    "\n",
    "A higher f-statistic generally suggests a larger difference between the group means relative to the variability within the groups.\n",
    "The F-statistic of 4.8461 suggests that there is some evidence that the group means differ, but we need to look at the p-value to confirm if this difference is statistically significant.\n",
    "\n",
    "The p-value is approx 0.016.\n",
    "\n",
    "Since the p-value is less than 0.05, we reject the null hypothesis and conclude there is a significant difference between the two groups."
   ]
  },
  {
   "cell_type": "markdown",
   "metadata": {},
   "source": [
    "ANOVA is more appropriate than using several t-tests when analyzing more than 2 groups.\n",
    "\n",
    "The reasons for this is as follows:\n",
    "\n",
    "Type I error control: ANOVA controls the overall Type I error rate when comparing more than two groups, while multiple t-tests increase the likelihood of Type I errors as more tests are performed.\n",
    "\n",
    "Efficiency: ANOVA allows for the simultaneous comparison of multiple groups in one test, whereas multiple t-tests become increasingly inefficient as the number of groups increases.\n",
    "\n",
    "Comprehensive analysis: ANOVA tests for overall differences between all groups at once, while multiple t-tests only compare pairs of groups.\n",
    "\n",
    "Post-hoc tests: After ANOVA, post-hoc tests can identify which specific groups differ, and these tests are designed to adjust for multiple comparisons, unlike t-tests which don't provide this built-in correction."
   ]
  }
 ],
 "metadata": {
  "kernelspec": {
   "display_name": "base",
   "language": "python",
   "name": "python3"
  },
  "language_info": {
   "codemirror_mode": {
    "name": "ipython",
    "version": 3
   },
   "file_extension": ".py",
   "mimetype": "text/x-python",
   "name": "python",
   "nbconvert_exporter": "python",
   "pygments_lexer": "ipython3",
   "version": "3.9.13"
  }
 },
 "nbformat": 4,
 "nbformat_minor": 2
}
